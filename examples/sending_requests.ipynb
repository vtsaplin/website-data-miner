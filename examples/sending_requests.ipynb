{
 "cells": [
  {
   "cell_type": "markdown",
   "source": [
    "Example of sending POST request to the miner to get the webpage statistics"
   ],
   "metadata": {
    "collapsed": false
   }
  },
  {
   "cell_type": "code",
   "execution_count": null,
   "outputs": [],
   "source": [
    "import requests\n",
    "\n",
    "queryRequest = {\n",
    "  'url': 'http://www.apple.com',\n",
    "  'expressions': [\n",
    "      {\n",
    "        'select': ['tagName', 'textContent', 'getBoundingClientRect'],\n",
    "        'from': 'h1,h2,h3',\n",
    "        'as': 'headings',\n",
    "      }\n",
    "  ]\n",
    "}\n",
    "\n",
    "x = requests.post('http://localhost:3000/query', json = queryRequest)\n",
    "\n",
    "print(x.text)\n"
   ],
   "metadata": {
    "collapsed": false,
    "pycharm": {
     "is_executing": true
    }
   }
  }
 ],
 "metadata": {
  "kernelspec": {
   "display_name": "Python 3",
   "language": "python",
   "name": "python3"
  },
  "language_info": {
   "codemirror_mode": {
    "name": "ipython",
    "version": 2
   },
   "file_extension": ".py",
   "mimetype": "text/x-python",
   "name": "python",
   "nbconvert_exporter": "python",
   "pygments_lexer": "ipython2",
   "version": "2.7.6"
  }
 },
 "nbformat": 4,
 "nbformat_minor": 0
}
